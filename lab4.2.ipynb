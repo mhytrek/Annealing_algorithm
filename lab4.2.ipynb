{
 "cells": [
  {
   "cell_type": "markdown",
   "metadata": {},
   "source": [
    "schemat -> prawd gaussem\n",
    "Optymalizacje:\n",
    "+ zapamietujemy najlepszy wynik\n",
    "+ kilka razy go wykonujemy\n",
    "+ Tempreratura dazy do 0\n",
    "+ nie polepsza sie drastcznie\n",
    "\n",
    "#Zadanie 2 - minimalizacja energi potencjalnej, stan - maicerz binarna\n",
    "energia potencjalna - kilka rodzajow sasiedztwa ( liczymy sume (lub inna funcke) czarncyh sasaidow przetestuj 5-10), mozna przesunac kilka na razz\n",
    "+ interpretacja naszej fizyki GIFY ZAWSZE NA PLUS\n",
    "\n",
    "+ rozne schematy wyzarzania\n",
    "\n",
    "#Zadanie 3\n",
    "Trudne planszee 52 najtrudniejsze plansze sudoku\n",
    "trudny dobor hiperparametrow, moze byc trudno z wykresami\n",
    "( na piatke)"
   ]
  },
  {
   "cell_type": "code",
   "execution_count": 1,
   "metadata": {},
   "outputs": [],
   "source": [
    "import random\n",
    "import numpy as np\n",
    "import matplotlib.pyplot as plt"
   ]
  },
  {
   "cell_type": "code",
   "execution_count": 47,
   "metadata": {},
   "outputs": [],
   "source": [
    "def first_im(n, density):\n",
    "    wanted = n*n*density\n",
    "    light = []\n",
    "    dark = []\n",
    "    for x in range(n):\n",
    "        for y in range(n):\n",
    "            if len(dark) < wanted and random.choice([1,0]) == 1:\n",
    "                dark.append((x,y))\n",
    "            else:\n",
    "                light.append((x,y))\n",
    "    return dark, light\n",
    "\n",
    "\n",
    "def annealing_img(n, density, fneighbour = [(1,1), (-1,-1), (-1,1), (1,-1)], iterations = 10**(4), temperature = lambda x: x*0.95):\n",
    "\n",
    "    def point_energy(x,y,light, neighbours):\n",
    "        e = 0\n",
    "        for x1, y1 in neighbours:\n",
    "            x_n = x + x1\n",
    "            y_n = y + y1\n",
    "\n",
    "            if (x,y) in light:\n",
    "                e += 1\n",
    "\n",
    "        return e\n",
    "\n",
    "\n",
    "    def full_energy():\n",
    "        full_e = 0\n",
    "        for x in range(n):\n",
    "            for y in range(n):\n",
    "                full_e += point_energy(x,y, l, fneighbour)\n",
    "        return full_e\n",
    "\n",
    "\n",
    "    d, l = first_im(n, density)\n",
    "    results = []\n",
    "\n",
    "\n",
    "    energy = full_energy()\n",
    "    results.append(energy)\n",
    "\n",
    "    p = 1\n",
    "    for _ in range(iterations):\n",
    "        random.shuffle(d)\n",
    "        random.shuffle(l)\n",
    "\n",
    "        l.append(d.pop(0))\n",
    "        d.append(l.pop(0))\n",
    "\n",
    "        new_energy = full_energy()\n",
    "\n",
    "        if new_energy < energy:\n",
    "            energy = new_energy\n",
    "            results.append(energy)\n",
    "        elif random.random() < p:\n",
    "            energy = new_energy\n",
    "            results.append(energy)\n",
    "        else:\n",
    "            l.append(d.pop(-1))\n",
    "            d.append(l.pop(-1))\n",
    "\n",
    "        p = temperature(p)\n",
    "    return d, results"
   ]
  },
  {
   "cell_type": "code",
   "execution_count": 48,
   "metadata": {},
   "outputs": [],
   "source": [
    "def visualize_img(dark, n):\n",
    "    t = [[1 if (x, y) in dark else 0 for y in range(n)] for x in range(n)]\n",
    "    img = np.array(t).reshape(n,n)\n",
    "    plt.imshow(img, cmap=plt.cm.gray)"
   ]
  },
  {
   "cell_type": "code",
   "execution_count": 49,
   "metadata": {},
   "outputs": [
    {
     "data": {
      "image/png": "[encoded data removed]",
      "text/plain": [
       "<Figure size 640x480 with 1 Axes>"
      ]
     },
     "metadata": {},
     "output_type": "display_data"
    }
   ],
   "source": [
    "d, r = annealing_img(30,0.2)\n",
    "visualize_img(d,30)"
   ]
  }
 ],
 "metadata": {
  "kernelspec": {
   "display_name": "base",
   "language": "python",
   "name": "python3"
  },
  "language_info": {
   "codemirror_mode": {
    "name": "ipython",
    "version": 3
   },
   "file_extension": ".py",
   "mimetype": "text/x-python",
   "name": "python",
   "nbconvert_exporter": "python",
   "pygments_lexer": "ipython3",
   "version": "3.11.5"
  }
 },
 "nbformat": 4,
 "nbformat_minor": 2
}
